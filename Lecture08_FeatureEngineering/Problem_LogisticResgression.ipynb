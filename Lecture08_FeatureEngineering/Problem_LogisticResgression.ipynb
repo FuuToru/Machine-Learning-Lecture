{
 "cells": [
  {
   "attachments": {
    "AI_Faster_small.png": {
     "image/png": "[encoded data removed]"
    }
   },
   "cell_type": "markdown",
   "id": "174329aa",
   "metadata": {},
   "source": [
    "![AI_Faster_small.png](attachment:AI_Faster_small.png)\n",
    "\n",
    "Ngoài web machinelearningcoban mọi người có thể tham khảo thêm ebook này cùng 1 tác giả với trang web nhưng có những cái mới hơn https://github.com/tiepvupsu/ebookMLCB/blob/master/book_ML_color.pdf\n",
    "### Lab ôn tập Logistic resgression"
   ]
  },
  {
   "attachments": {},
   "cell_type": "markdown",
   "id": "6686ddcf",
   "metadata": {},
   "source": [
    "**Viết chương trình để xử lý bài toán phân biệt hai chữ số viết tay  0 và 1 trong bộ cơ sở dữ liệu MNIST bằng Logistic resgression và KNN. So sánh kết quả của 2 mô hình và hiển thị các trường hợp dự đoán sai (nếu có)**\n",
    "\n"
   ]
  },
  {
   "attachments": {},
   "cell_type": "markdown",
   "id": "5cc618c3",
   "metadata": {},
   "source": [
    "Kích thước của bộ dữ liệu MNIST của tensorflow lớn hơn của sklearn nên sẽ có kết quả tốt hơn"
   ]
  },
  {
   "attachments": {},
   "cell_type": "markdown",
   "id": "a986ab26",
   "metadata": {},
   "source": [
    "Trước tiên nên install thư viện tensorflow "
   ]
  },
  {
   "cell_type": "code",
   "execution_count": 4,
   "id": "273c7dc8",
   "metadata": {},
   "outputs": [
    {
     "name": "stdout",
     "output_type": "stream",
     "text": [
      "Downloading data from https://storage.googleapis.com/tensorflow/tf-keras-datasets/mnist.npz\n",
      "11490434/11490434 [==============================] - 2s 0us/step\n",
      "Kích thước dữ liệu huấn luyện: (60000, 28, 28)\n",
      "Kích thước nhãn huấn luyện: (60000,)\n",
      "Kích thước dữ liệu kiểm tra: (10000, 28, 28)\n",
      "Kích thước nhãn kiểm tra: (10000,)\n"
     ]
    }
   ],
   "source": [
    "import tensorflow as tf\n",
    "\n",
    "# Tải bộ dữ liệu MNIST từ TensorFlow\n",
    "mnist = tf.keras.datasets.mnist\n",
    "(x_train, y_train), (x_test, y_test) = mnist.load_data()\n",
    "\n",
    "# In thông tin về dữ liệu\n",
    "print(\"Kích thước dữ liệu huấn luyện:\", x_train.shape)\n",
    "print(\"Kích thước nhãn huấn luyện:\", y_train.shape)\n",
    "print(\"Kích thước dữ liệu kiểm tra:\", x_test.shape)\n",
    "print(\"Kích thước nhãn kiểm tra:\", y_test.shape)\n"
   ]
  },
  {
   "cell_type": "code",
   "execution_count": 43,
   "id": "9832cada",
   "metadata": {},
   "outputs": [
    {
     "name": "stderr",
     "output_type": "stream",
     "text": [
      "/Users/danghuutri/Library/Python/3.9/lib/python/site-packages/sklearn/datasets/_openml.py:968: FutureWarning: The default value of `parser` will change from `'liac-arff'` to `'auto'` in 1.4. You can set `parser='auto'` to silence this warning. Therefore, an `ImportError` will be raised from 1.4 if the dataset is dense and pandas is not installed. Note that the pandas parser may return different data types. See the Notes Section in fetch_openml's API doc for details.\n",
      "  warn(\n"
     ]
    }
   ],
   "source": [
    "from sklearn.datasets import fetch_openml\n",
    "from sklearn.linear_model import LogisticRegression\n",
    "from sklearn.model_selection import train_test_split\n",
    "from sklearn.metrics import accuracy_score, confusion_matrix\n",
    "from sklearn import neighbors, datasets\n",
    "# Tải dữ liệu MNIST\n",
    "X, y = fetch_openml('mnist_784', version=1, return_X_y=True)\n",
    "\n",
    "# Chọn chỉ các mẫu chứa chữ số 0 và 1\n",
    "X_01 = X[(y == '0') | (y == '8')]\n",
    "y_01 = y[(y == '0') | (y == '8')]\n",
    "\n",
    "# Chuẩn bị dữ liệu\n",
    "X_train, X_test, y_train, y_test = train_test_split(X_01, y_01, test_size=0.2, random_state=0)\n",
    "X_train = X_train / 255.0  # Chuẩn hóa dữ liệu\n",
    "X_test = X_test / 255.0"
   ]
  },
  {
   "cell_type": "code",
   "execution_count": 64,
   "id": "fbc48028",
   "metadata": {},
   "outputs": [
    {
     "name": "stdout",
     "output_type": "stream",
     "text": [
      "       pixel1  pixel2  pixel3  pixel4  pixel5  pixel6  pixel7  pixel8  pixel9   \n",
      "5340      0.0     0.0     0.0     0.0     0.0     0.0     0.0     0.0     0.0  \\\n",
      "58609     0.0     0.0     0.0     0.0     0.0     0.0     0.0     0.0     0.0   \n",
      "10733     0.0     0.0     0.0     0.0     0.0     0.0     0.0     0.0     0.0   \n",
      "35559     0.0     0.0     0.0     0.0     0.0     0.0     0.0     0.0     0.0   \n",
      "12118     0.0     0.0     0.0     0.0     0.0     0.0     0.0     0.0     0.0   \n",
      "...       ...     ...     ...     ...     ...     ...     ...     ...     ...   \n",
      "51440     0.0     0.0     0.0     0.0     0.0     0.0     0.0     0.0     0.0   \n",
      "64634     0.0     0.0     0.0     0.0     0.0     0.0     0.0     0.0     0.0   \n",
      "63401     0.0     0.0     0.0     0.0     0.0     0.0     0.0     0.0     0.0   \n",
      "56940     0.0     0.0     0.0     0.0     0.0     0.0     0.0     0.0     0.0   \n",
      "47312     0.0     0.0     0.0     0.0     0.0     0.0     0.0     0.0     0.0   \n",
      "\n",
      "       pixel10  ...  pixel775  pixel776  pixel777  pixel778  pixel779   \n",
      "5340       0.0  ...       0.0       0.0       0.0       0.0       0.0  \\\n",
      "58609      0.0  ...       0.0       0.0       0.0       0.0       0.0   \n",
      "10733      0.0  ...       0.0       0.0       0.0       0.0       0.0   \n",
      "35559      0.0  ...       0.0       0.0       0.0       0.0       0.0   \n",
      "12118      0.0  ...       0.0       0.0       0.0       0.0       0.0   \n",
      "...        ...  ...       ...       ...       ...       ...       ...   \n",
      "51440      0.0  ...       0.0       0.0       0.0       0.0       0.0   \n",
      "64634      0.0  ...       0.0       0.0       0.0       0.0       0.0   \n",
      "63401      0.0  ...       0.0       0.0       0.0       0.0       0.0   \n",
      "56940      0.0  ...       0.0       0.0       0.0       0.0       0.0   \n",
      "47312      0.0  ...       0.0       0.0       0.0       0.0       0.0   \n",
      "\n",
      "       pixel780  pixel781  pixel782  pixel783  pixel784  \n",
      "5340        0.0       0.0       0.0       0.0       0.0  \n",
      "58609       0.0       0.0       0.0       0.0       0.0  \n",
      "10733       0.0       0.0       0.0       0.0       0.0  \n",
      "35559       0.0       0.0       0.0       0.0       0.0  \n",
      "12118       0.0       0.0       0.0       0.0       0.0  \n",
      "...         ...       ...       ...       ...       ...  \n",
      "51440       0.0       0.0       0.0       0.0       0.0  \n",
      "64634       0.0       0.0       0.0       0.0       0.0  \n",
      "63401       0.0       0.0       0.0       0.0       0.0  \n",
      "56940       0.0       0.0       0.0       0.0       0.0  \n",
      "47312       0.0       0.0       0.0       0.0       0.0  \n",
      "\n",
      "[2746 rows x 784 columns]\n"
     ]
    }
   ],
   "source": [
    "print(X_test)"
   ]
  },
  {
   "cell_type": "code",
   "execution_count": 71,
   "id": "d43ecf79",
   "metadata": {},
   "outputs": [
    {
     "name": "stderr",
     "output_type": "stream",
     "text": [
      "/Users/danghuutri/Library/Python/3.9/lib/python/site-packages/sklearn/linear_model/_logistic.py:458: ConvergenceWarning: lbfgs failed to converge (status=1):\n",
      "STOP: TOTAL NO. of ITERATIONS REACHED LIMIT.\n",
      "\n",
      "Increase the number of iterations (max_iter) or scale the data as shown in:\n",
      "    https://scikit-learn.org/stable/modules/preprocessing.html\n",
      "Please also refer to the documentation for alternative solver options:\n",
      "    https://scikit-learn.org/stable/modules/linear_model.html#logistic-regression\n",
      "  n_iter_i = _check_optimize_result(\n",
      "/Users/danghuutri/Library/Python/3.9/lib/python/site-packages/sklearn/base.py:439: UserWarning: X does not have valid feature names, but LogisticRegression was fitted with feature names\n",
      "  warnings.warn(\n",
      "/Users/danghuutri/Library/Python/3.9/lib/python/site-packages/sklearn/base.py:439: UserWarning: X does not have valid feature names, but KNeighborsClassifier was fitted with feature names\n",
      "  warnings.warn(\n"
     ]
    },
    {
     "name": "stdout",
     "output_type": "stream",
     "text": [
      "Accuracy of Logistic Regression: 99.38%\n",
      "Accuracy of KNN: 99.71 %\n"
     ]
    }
   ],
   "source": [
    "\n",
    "# Huấn luyện mô hình Logistic Regression\n",
    "lr_model = LogisticRegression()\n",
    "lr_model.fit(X_train, y_train)\n",
    "\n",
    "# Huấn luyện mô hình KNN\n",
    "knn_model = neighbors.KNeighborsClassifier(n_neighbors = 1, p = 2)\n",
    "knn_model.fit(X_train, y_train)\n",
    "\n",
    "# Dự đoán nhãn cho tập kiểm tra\n",
    "y_pred_lr = lr_model.predict(X_test)\n",
    "y_pred_knn = knn_model.predict(X_test)\n",
    "\n",
    "# Đánh giá độ chính xác của hai mô hình\n",
    "accuracy_lr = accuracy_score(y_test, y_pred_lr)\n",
    "accuracy_knn = accuracy_score(y_test, y_pred_knn)\n",
    "\n",
    "print(\"Accuracy of Logistic Regression: %.2f%%\" %(accuracy_lr*100))\n",
    "print(\"Accuracy of KNN: %.2f %%\" %(100*accuracy_knn))\n"
   ]
  },
  {
   "cell_type": "code",
   "execution_count": 65,
   "id": "169d176b",
   "metadata": {},
   "outputs": [],
   "source": [
    "import numpy as np\n",
    "def cal_accuracy_score(predict, labels):\n",
    "    count = 0\n",
    "    list_index_fail = []\n",
    "    for i in range(len(predict)):\n",
    "        if predict[i] == labels[i]:\n",
    "            count += 1\n",
    "        else:\n",
    "            list_index_fail.append(i)\n",
    "\n",
    "    accuracy = count / len(predict)\n",
    "    return accuracy, list_index_fail\n",
    "\n",
    "y_test = np.array(y_test)\n",
    "X_test = np.array(X_test)"
   ]
  },
  {
   "cell_type": "code",
   "execution_count": 72,
   "id": "6c25dd85",
   "metadata": {},
   "outputs": [
    {
     "name": "stdout",
     "output_type": "stream",
     "text": [
      "[258, 453, 715, 863, 910, 1080, 1324, 1459, 1514, 1630, 1669, 1682, 1724, 2084, 2449, 2537, 2640]\n",
      "[173, 1495, 1630, 1724, 2042, 2100, 2394, 2537]\n"
     ]
    }
   ],
   "source": [
    "accLG, failLG  = cal_accuracy_score(y_pred_lr,y_test)\n",
    "print(failLG)\n",
    "accKnn, failKnn = cal_accuracy_score(y_pred_knn,y_test)\n",
    "print(failKnn)"
   ]
  },
  {
   "cell_type": "code",
   "execution_count": 75,
   "id": "7caf74ed",
   "metadata": {},
   "outputs": [
    {
     "name": "stdout",
     "output_type": "stream",
     "text": [
      "0\n"
     ]
    },
    {
     "data": {
      "image/png": "[encoded data removed]",
      "text/plain": [
       "<Figure size 640x480 with 1 Axes>"
      ]
     },
     "metadata": {},
     "output_type": "display_data"
    }
   ],
   "source": [
    "import matplotlib.pyplot as plt\n",
    "imgLG = X_test[258]\n",
    "plt.gray()\n",
    "plt.imshow(imgLG.reshape(28,28))\n",
    "print(y_pred_lr[258])\n"
   ]
  },
  {
   "cell_type": "code",
   "execution_count": 76,
   "id": "5b28bedb",
   "metadata": {},
   "outputs": [
    {
     "name": "stdout",
     "output_type": "stream",
     "text": [
      "0\n"
     ]
    },
    {
     "data": {
      "image/png": "[encoded data removed]",
      "text/plain": [
       "<Figure size 640x480 with 1 Axes>"
      ]
     },
     "metadata": {},
     "output_type": "display_data"
    }
   ],
   "source": [
    "imgKnn = X_test[173]\n",
    "plt.gray()\n",
    "plt.imshow(imgKnn.reshape(28,28))\n",
    "print(y_pred_knn[173])"
   ]
  }
 ],
 "metadata": {
  "kernelspec": {
   "display_name": "Python 3 (ipykernel)",
   "language": "python",
   "name": "python3"
  },
  "language_info": {
   "codemirror_mode": {
    "name": "ipython",
    "version": 3
   },
   "file_extension": ".py",
   "mimetype": "text/x-python",
   "name": "python",
   "nbconvert_exporter": "python",
   "pygments_lexer": "ipython3",
   "version": "3.9.6"
  }
 },
 "nbformat": 4,
 "nbformat_minor": 5
}
