{
 "cells": [
  {
   "cell_type": "code",
   "execution_count": 1,
   "metadata": {},
   "outputs": [
    {
     "name": "stdout",
     "output_type": "stream",
     "text": [
      "Solution\"\n",
      "[ 6.00e+00]\n",
      "[ 4.00e+00]\n",
      "\n"
     ]
    }
   ],
   "source": [
    "from cvxopt import matrix, solvers\n",
    "c = matrix([-5., -3.])\n",
    "G = matrix([[1., 2., 1., -1., 0.], [1., 1., 4., 0., -1.]])\n",
    "h = matrix([10., 16., 32., 0., 0.])\n",
    "\n",
    "solvers.options['show_progress'] = False\n",
    "sol = solvers.lp(c, G, h)\n",
    "\n",
    "print('Solution\"')\n",
    "print(sol['x'])"
   ]
  },
  {
   "cell_type": "code",
   "execution_count": 2,
   "metadata": {},
   "outputs": [
    {
     "name": "stdout",
     "output_type": "stream",
     "text": [
      "Solution:\n",
      "[ 5.00e+00]\n",
      "[ 5.00e+00]\n",
      "\n"
     ]
    }
   ],
   "source": [
    "from cvxopt import matrix, solvers\n",
    "P = matrix([[1., 0.], [0., 1.]])\n",
    "q = matrix([-10., -10.])\n",
    "G = matrix([[1., 2., 1., -1., 0.], [1., 1., 4., 0., -1.]])\n",
    "h = matrix([10., 16., 32., 0., 0])\n",
    "\n",
    "solvers.options['show_progress'] = False\n",
    "sol = solvers.qp(P, q, G, h)\n",
    "\n",
    "print('Solution:')\n",
    "print(sol['x'])"
   ]
  },
  {
   "cell_type": "code",
   "execution_count": 22,
   "metadata": {},
   "outputs": [
    {
     "name": "stdout",
     "output_type": "stream",
     "text": [
      "Optimal x: 3\n",
      "Optimal lambda: 2\n",
      "Optimal f(x): 9\n"
     ]
    }
   ],
   "source": [
    "from sympy import symbols, diff, Eq, solve\n",
    "\n",
    "x = symbols('x')\n",
    "f = 2*x + 3\n",
    "g = 3 - x\n",
    "lambda_var = symbols('lambda')\n",
    "\n",
    "# Xây dựng hàm Lagrange\n",
    "L = f + lambda_var * g\n",
    "\n",
    "# Tính đạo hàm theo biến x và lambda\n",
    "dL_dx = diff(L, x)\n",
    "dL_dlambda = diff(L, lambda_var)\n",
    "\n",
    "# Giải hệ phương trình đạo hàm bằng 0\n",
    "solutions = solve([dL_dx, dL_dlambda], (x, lambda_var))\n",
    "# print(solutions[x])\n",
    "# # In kết quả\n",
    "\n",
    "optimal_x = solutions[x]\n",
    "optimal_lambda = solutions[lambda_var]\n",
    "optimal_f = f.subs(x, optimal_x)\n",
    "print(\"Optimal x:\", optimal_x)\n",
    "print(\"Optimal lambda:\", optimal_lambda)\n",
    "print(\"Optimal f(x):\", optimal_f)\n",
    "# print(\"f(x):\", f.sub(x,solutions[x]))"
   ]
  }
 ],
 "metadata": {
  "kernelspec": {
   "display_name": "Python 3",
   "language": "python",
   "name": "python3"
  },
  "language_info": {
   "codemirror_mode": {
    "name": "ipython",
    "version": 3
   },
   "file_extension": ".py",
   "mimetype": "text/x-python",
   "name": "python",
   "nbconvert_exporter": "python",
   "pygments_lexer": "ipython3",
   "version": "3.9.6"
  },
  "orig_nbformat": 4
 },
 "nbformat": 4,
 "nbformat_minor": 2
}
