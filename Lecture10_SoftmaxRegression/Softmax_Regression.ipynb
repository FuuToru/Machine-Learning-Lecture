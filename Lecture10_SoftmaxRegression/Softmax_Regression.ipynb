{
 "cells": [
  {
   "cell_type": "code",
   "execution_count": 2,
   "metadata": {},
   "outputs": [],
   "source": [
    "import numpy as np\n",
    "\n",
    "def softmax(Z):\n",
    "    ex = np.exp(Z)\n",
    "    A = ex / ex.sum(axis=0)\n",
    "    return A"
   ]
  },
  {
   "cell_type": "code",
   "execution_count": 3,
   "metadata": {},
   "outputs": [],
   "source": [
    "def softmax_stable(Z):\n",
    "    ex = np.exp(Z - np.max(Z, axis = 0, keepdims = True)) #keepdims= True để đảm bảo phép trừ ma trận Z và vector thực hiện được\n",
    "    A = ex / ex.sum(axis = 0)\n",
    "    return A"
   ]
  },
  {
   "cell_type": "code",
   "execution_count": 4,
   "metadata": {},
   "outputs": [],
   "source": [
    "import numpy as np \n",
    "\n",
    "# randomly generate data \n",
    "N = 2 # number of training sample \n",
    "d = 2 # data dimension \n",
    "C = 3 # number of classes \n",
    "\n",
    "X = np.random.randn(d, N)\n",
    "y = np.random.randint(0, 3, (N,))"
   ]
  },
  {
   "cell_type": "code",
   "execution_count": 5,
   "metadata": {},
   "outputs": [],
   "source": [
    "from scipy import sparse \n",
    "def convert_labels(y, C = C):\n",
    "    \"\"\"\n",
    "    convert 1d label to a matrix label: each column of this \n",
    "    matrix coresponding to 1 element in y. In i-th column of Y, \n",
    "    only one non-zeros element located in the y[i]-th position, \n",
    "    and = 1 ex: y = [0, 2, 1, 0], and 3 classes then return\n",
    "\n",
    "            [[1, 0, 0, 1],\n",
    "             [0, 0, 1, 0],\n",
    "             [0, 1, 0, 0]]\n",
    "    \"\"\"\n",
    "    Y = sparse.coo_matrix((np.ones_like(y), \n",
    "        (y, np.arange(len(y)))), shape = (C, len(y))).toarray()\n",
    "    return Y \n",
    "\n",
    "Y = convert_labels(y, C)\n",
    "\n"
   ]
  },
  {
   "cell_type": "code",
   "execution_count": 6,
   "metadata": {},
   "outputs": [
    {
     "name": "stdout",
     "output_type": "stream",
     "text": [
      "1.85656457021699e-10\n"
     ]
    }
   ],
   "source": [
    "# cost or loss function  \n",
    "def cost(X, Y, W):\n",
    "    A = softmax(W.T.dot(X))\n",
    "    return -np.sum(Y*np.log(A))\n",
    "\n",
    "W_init = np.random.randn(d, C)\n",
    "\n",
    "def grad(X, Y, W):\n",
    "    A = softmax((W.T.dot(X)))\n",
    "    E = A - Y\n",
    "    return X.dot(E.T)\n",
    "    \n",
    "def numerical_grad(X, Y, W, cost):\n",
    "    eps = 1e-6\n",
    "    g = np.zeros_like(W)\n",
    "    for i in range(W.shape[0]):\n",
    "        for j in range(W.shape[1]):\n",
    "            W_p = W.copy()\n",
    "            W_n = W.copy()\n",
    "            W_p[i, j] += eps \n",
    "            W_n[i, j] -= eps\n",
    "            g[i,j] = (cost(X, Y, W_p) - cost(X, Y, W_n))/(2*eps)\n",
    "    return g \n",
    "\n",
    "g1 = grad(X, Y, W_init)\n",
    "g2 = numerical_grad(X, Y, W_init, cost)\n",
    "\n",
    "print(np.linalg.norm(g1 - g2))"
   ]
  },
  {
   "cell_type": "code",
   "execution_count": 7,
   "metadata": {},
   "outputs": [],
   "source": [
    "def softmax_regression(X, y, W_init, eta, tol = 1e-4, max_count = 10000):\n",
    "    W = [W_init]    \n",
    "    C = W_init.shape[1]\n",
    "    Y = convert_labels(y, C)\n",
    "    it = 0\n",
    "    N = X.shape[1]\n",
    "    d = X.shape[0]\n",
    "    \n",
    "    count = 0\n",
    "    check_w_after = 20\n",
    "    while count < max_count:\n",
    "        # mix data \n",
    "        mix_id = np.random.permutation(N)\n",
    "        for i in mix_id:\n",
    "            xi = X[:, i].reshape(d, 1)\n",
    "            yi = Y[:, i].reshape(C, 1)\n",
    "            ai = softmax(np.dot(W[-1].T, xi))\n",
    "            W_new = W[-1] + eta*xi.dot((yi - ai).T)\n",
    "            count += 1\n",
    "            # stopping criteria\n",
    "            if count%check_w_after == 0:                \n",
    "                if np.linalg.norm(W_new - W[-check_w_after]) < tol:\n",
    "                    return W\n",
    "            W.append(W_new)\n",
    "    return W\n",
    "eta = .05 \n",
    "d = X.shape[0]\n",
    "W_init = np.random.randn(d, C)\n",
    "\n",
    "W = softmax_regression(X, y, W_init, eta)\n",
    "# W[-1] is the solution, W is all history of weights"
   ]
  },
  {
   "cell_type": "code",
   "execution_count": 8,
   "metadata": {},
   "outputs": [],
   "source": [
    "def pred(W, X):\n",
    "    \"\"\"\n",
    "    predict output of each columns of X\n",
    "    Class of each x_i is determined by location of max probability\n",
    "    Note that class are indexed by [0, 1, 2, ...., C-1]\n",
    "    \"\"\"\n",
    "    A = softmax_stable(W.T.dot(X))\n",
    "    return np.argmax(A, axis = 0)"
   ]
  },
  {
   "cell_type": "code",
   "execution_count": 9,
   "metadata": {},
   "outputs": [],
   "source": [
    "means = [[2, 2], [8, 3], [3, 6]]\n",
    "cov = [[1, 0], [0, 1]]\n",
    "N = 500\n",
    "X0 = np.random.multivariate_normal(means[0], cov, N)\n",
    "X1 = np.random.multivariate_normal(means[1], cov, N)\n",
    "X2 = np.random.multivariate_normal(means[2], cov, N)\n",
    "\n",
    "# each column is a datapoint\n",
    "X = np.concatenate((X0, X1, X2), axis = 0).T \n",
    "# extended data\n",
    "X = np.concatenate((np.ones((1, 3*N)), X), axis = 0)\n",
    "C = 3\n",
    "\n",
    "original_label = np.asarray([0]*N + [1]*N + [2]*N).T"
   ]
  },
  {
   "cell_type": "code",
   "execution_count": 10,
   "metadata": {},
   "outputs": [
    {
     "name": "stdout",
     "output_type": "stream",
     "text": [
      "[[ 7.92501514 -3.90524936 -4.49270286]\n",
      " [ 0.14212612  2.77239814  0.47270733]\n",
      " [-0.67211075 -0.99821269  2.07226202]]\n"
     ]
    }
   ],
   "source": [
    "W_init = np.random.randn(X.shape[0], C)\n",
    "W = softmax_regression(X, original_label, W_init, eta)\n",
    "print(W[-1])\n"
   ]
  }
 ],
 "metadata": {
  "kernelspec": {
   "display_name": "Python 3",
   "language": "python",
   "name": "python3"
  },
  "language_info": {
   "codemirror_mode": {
    "name": "ipython",
    "version": 3
   },
   "file_extension": ".py",
   "mimetype": "text/x-python",
   "name": "python",
   "nbconvert_exporter": "python",
   "pygments_lexer": "ipython3",
   "version": "3.9.6"
  },
  "orig_nbformat": 4
 },
 "nbformat": 4,
 "nbformat_minor": 2
}
